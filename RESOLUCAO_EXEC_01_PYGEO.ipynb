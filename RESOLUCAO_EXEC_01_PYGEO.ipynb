{
  "nbformat": 4,
  "nbformat_minor": 0,
  "metadata": {
    "colab": {
      "provenance": [],
      "authorship_tag": "ABX9TyNLDRcjfj1Tycran40fSDgv",
      "include_colab_link": true
    },
    "kernelspec": {
      "name": "python3",
      "display_name": "Python 3"
    },
    "language_info": {
      "name": "python"
    }
  },
  "cells": [
    {
      "cell_type": "markdown",
      "metadata": {
        "id": "view-in-github",
        "colab_type": "text"
      },
      "source": [
        "<a href=\"https://colab.research.google.com/github/VeronicaHeringer/Curso_PyGeo/blob/main/RESOLUCAO_EXEC_01_PYGEO.ipynb\" target=\"_parent\"><img src=\"https://colab.research.google.com/assets/colab-badge.svg\" alt=\"Open In Colab\"/></a>"
      ]
    },
    {
      "cell_type": "code",
      "source": [
        "from shapely.geometry import Point"
      ],
      "metadata": {
        "id": "5q2bD--1Pmi8"
      },
      "execution_count": 1,
      "outputs": []
    },
    {
      "cell_type": "markdown",
      "source": [
        "**E1 - Criando geometrias básicas e obtendo seus atributos**\n"
      ],
      "metadata": {
        "id": "Aa5qF-2FKphK"
      }
    },
    {
      "cell_type": "markdown",
      "source": [
        "a) Use o Google Maps para obter as coordenadas (Longitude, Latitude) dos cinco lugares que você mais gosta na sua cidade. Crie um objeto do tipo Point (ponto) para cada um desses lugares. Descubra qual desses locais fica a uma maior distância um do outro e quanto é essa distância. Mostre na tela o tipo de objeto de cada um dos pontos."
      ],
      "metadata": {
        "id": "DCRYCfaEK3W0"
      }
    },
    {
      "cell_type": "code",
      "source": [
        "p1= Point(50,20)\n",
        "p2= Point(30,10)\n",
        "p3= Point(10,15)\n",
        "p4= Point(14,27)\n",
        "p5= Point(50,23)"
      ],
      "metadata": {
        "id": "ltCtPeVbLJqC"
      },
      "execution_count": 12,
      "outputs": []
    },
    {
      "cell_type": "code",
      "source": [
        "# Calcular a distancia entre 2 pontos\n",
        "print(p1.distance(p2))\n",
        "print(p1.distance(p3))\n",
        "print(p1.distance(p4))\n",
        "print(p1.distance(p5))\n",
        "\n",
        "print(p2.distance(p3))\n",
        "print(p2.distance(p4))\n",
        "print(p2.distance(p5))\n",
        "\n",
        "print(p3.distance(p4))\n",
        "print(p3.distance(p5))\n",
        "\n",
        "print(p4.distance(p5))\n",
        "\n",
        "\n",
        "\n",
        "\n",
        "\n",
        "\n",
        "\n",
        "\n"
      ],
      "metadata": {
        "colab": {
          "base_uri": "https://localhost:8080/"
        },
        "id": "7FCN0esBQdGt",
        "outputId": "fbd643ae-595a-44f9-c1da-b3cce3693c59"
      },
      "execution_count": 4,
      "outputs": [
        {
          "output_type": "stream",
          "name": "stdout",
          "text": [
            "22.360679774997898\n",
            "40.311288741492746\n",
            "36.6742416417845\n",
            "3.0\n",
            "20.615528128088304\n",
            "23.345235059857504\n",
            "23.853720883753127\n",
            "12.649110640673518\n",
            "40.792156108742276\n",
            "36.22154055254967\n"
          ]
        }
      ]
    },
    {
      "cell_type": "code",
      "source": [
        "# Calcular as distancias com o Loop\n",
        "pontos=[p1,p2,p3,p4,p5]\n",
        "pontos"
      ],
      "metadata": {
        "colab": {
          "base_uri": "https://localhost:8080/"
        },
        "id": "UN82BGQUSWLr",
        "outputId": "36bb7582-44f6-47c5-b71f-1d71c2eafb76"
      },
      "execution_count": 13,
      "outputs": [
        {
          "output_type": "execute_result",
          "data": {
            "text/plain": [
              "[<POINT (50 20)>,\n",
              " <POINT (30 10)>,\n",
              " <POINT (10 15)>,\n",
              " <POINT (14 27)>,\n",
              " <POINT (50 23)>]"
            ]
          },
          "metadata": {},
          "execution_count": 13
        }
      ]
    },
    {
      "cell_type": "code",
      "source": [
        "# Usando o For\n",
        "for ponto in pontos:\n",
        "  n=0\n",
        "  while n< len(pontos):\n",
        "    print(\"A distancia entre %s e %s é: s%\"%(ponto, pontos[n],ponto.distance(pontos[n])))\n",
        "    n=n+1"
      ],
      "metadata": {
        "colab": {
          "base_uri": "https://localhost:8080/",
          "height": 219
        },
        "id": "X8CXuqt2S1zD",
        "outputId": "d33387c9-584a-413d-b395-0f9d30b4d2f2"
      },
      "execution_count": 14,
      "outputs": [
        {
          "output_type": "error",
          "ename": "ValueError",
          "evalue": "ignored",
          "traceback": [
            "\u001b[0;31m---------------------------------------------------------------------------\u001b[0m",
            "\u001b[0;31mValueError\u001b[0m                                Traceback (most recent call last)",
            "\u001b[0;32m<ipython-input-14-4b05579c4cc2>\u001b[0m in \u001b[0;36m<cell line: 2>\u001b[0;34m()\u001b[0m\n\u001b[1;32m      3\u001b[0m   \u001b[0mn\u001b[0m\u001b[0;34m=\u001b[0m\u001b[0;36m0\u001b[0m\u001b[0;34m\u001b[0m\u001b[0;34m\u001b[0m\u001b[0m\n\u001b[1;32m      4\u001b[0m   \u001b[0;32mwhile\u001b[0m \u001b[0mn\u001b[0m\u001b[0;34m<\u001b[0m \u001b[0mlen\u001b[0m\u001b[0;34m(\u001b[0m\u001b[0mpontos\u001b[0m\u001b[0;34m)\u001b[0m\u001b[0;34m:\u001b[0m\u001b[0;34m\u001b[0m\u001b[0;34m\u001b[0m\u001b[0m\n\u001b[0;32m----> 5\u001b[0;31m     \u001b[0mprint\u001b[0m\u001b[0;34m(\u001b[0m\u001b[0;34m\"A distancia entre %s e %s é: s%\"\u001b[0m\u001b[0;34m%\u001b[0m\u001b[0;34m(\u001b[0m\u001b[0mponto\u001b[0m\u001b[0;34m,\u001b[0m \u001b[0mpontos\u001b[0m\u001b[0;34m[\u001b[0m\u001b[0mn\u001b[0m\u001b[0;34m]\u001b[0m\u001b[0;34m,\u001b[0m\u001b[0mponto\u001b[0m\u001b[0;34m.\u001b[0m\u001b[0mdistance\u001b[0m\u001b[0;34m(\u001b[0m\u001b[0mpontos\u001b[0m\u001b[0;34m[\u001b[0m\u001b[0mn\u001b[0m\u001b[0;34m]\u001b[0m\u001b[0;34m)\u001b[0m\u001b[0;34m)\u001b[0m\u001b[0;34m)\u001b[0m\u001b[0;34m\u001b[0m\u001b[0;34m\u001b[0m\u001b[0m\n\u001b[0m\u001b[1;32m      6\u001b[0m     \u001b[0mn\u001b[0m\u001b[0;34m=\u001b[0m\u001b[0mn\u001b[0m\u001b[0;34m+\u001b[0m\u001b[0;36m1\u001b[0m\u001b[0;34m\u001b[0m\u001b[0;34m\u001b[0m\u001b[0m\n",
            "\u001b[0;31mValueError\u001b[0m: incomplete format"
          ]
        }
      ]
    },
    {
      "cell_type": "code",
      "source": [
        "# Mostrando o tipo/classe dos objetos criados\n",
        "\n",
        "print(type(p1))\n",
        "print(type(p2))\n",
        "print(type(p3))\n",
        "print(type(p4))\n",
        "print(type(p5))\n",
        "\n",
        "# Usando o for\n",
        "for ponto in pontos:\n",
        "  print(type(ponto))\n",
        "\n",
        "  "
      ],
      "metadata": {
        "colab": {
          "base_uri": "https://localhost:8080/"
        },
        "id": "qeXPiZcbWW2l",
        "outputId": "89955f82-e50c-4ce2-d7c5-24966658a794"
      },
      "execution_count": 16,
      "outputs": [
        {
          "output_type": "stream",
          "name": "stdout",
          "text": [
            "<class 'shapely.geometry.point.Point'>\n",
            "<class 'shapely.geometry.point.Point'>\n",
            "<class 'shapely.geometry.point.Point'>\n",
            "<class 'shapely.geometry.point.Point'>\n",
            "<class 'shapely.geometry.point.Point'>\n",
            "<class 'shapely.geometry.point.Point'>\n",
            "<class 'shapely.geometry.point.Point'>\n",
            "<class 'shapely.geometry.point.Point'>\n",
            "<class 'shapely.geometry.point.Point'>\n",
            "<class 'shapely.geometry.point.Point'>\n"
          ]
        }
      ]
    },
    {
      "cell_type": "markdown",
      "source": [
        "b) Crie um objeto do tipo linha (LineString) que conecta esses cinco locais. Mostre na tela o tipo de objeto dessa linha e obtenha seu comprimento total."
      ],
      "metadata": {
        "id": "VFHZQFw8K79r"
      }
    },
    {
      "cell_type": "code",
      "source": [
        "from shapely.geometry import LineString\n",
        "\n",
        "l1=LineString(pontos)\n",
        "l1"
      ],
      "metadata": {
        "id": "Jb6f3yxfLKVq",
        "colab": {
          "base_uri": "https://localhost:8080/",
          "height": 121
        },
        "outputId": "8568ddb1-a23b-4773-c085-fc134291f413"
      },
      "execution_count": 18,
      "outputs": [
        {
          "output_type": "execute_result",
          "data": {
            "text/plain": [
              "<LINESTRING (50 20, 30 10, 10 15, 14 27, 50 23)>"
            ],
            "image/svg+xml": "<svg xmlns=\"http://www.w3.org/2000/svg\" xmlns:xlink=\"http://www.w3.org/1999/xlink\" width=\"100.0\" height=\"100.0\" viewBox=\"8.4 8.4 43.2 20.200000000000003\" preserveAspectRatio=\"xMinYMin meet\"><g transform=\"matrix(1,0,0,-1,0,37.0)\"><polyline fill=\"none\" stroke=\"#66cc99\" stroke-width=\"0.8640000000000001\" points=\"50.0,20.0 30.0,10.0 10.0,15.0 14.0,27.0 50.0,23.0\" opacity=\"0.8\" /></g></svg>"
          },
          "metadata": {},
          "execution_count": 18
        }
      ]
    },
    {
      "cell_type": "code",
      "source": [
        "# Mostrar o comprimento desta linha\n",
        "l1.length"
      ],
      "metadata": {
        "colab": {
          "base_uri": "https://localhost:8080/"
        },
        "id": "xOoXWyjDXtim",
        "outputId": "537e69e7-8134-4854-9a4c-d0bd3e4f7fab"
      },
      "execution_count": 19,
      "outputs": [
        {
          "output_type": "execute_result",
          "data": {
            "text/plain": [
              "91.8468590963094"
            ]
          },
          "metadata": {},
          "execution_count": 19
        }
      ]
    },
    {
      "cell_type": "markdown",
      "source": [
        "c) Descubra a área e o centróide do polígono que tem esses cinco locais como vértices."
      ],
      "metadata": {
        "id": "QsqdjI4lK_Kc"
      }
    },
    {
      "cell_type": "code",
      "source": [
        "# importar a biblio\n",
        "from shapely.geometry import Polygon"
      ],
      "metadata": {
        "id": "QSHjJbrXLL0L"
      },
      "execution_count": 20,
      "outputs": []
    },
    {
      "cell_type": "code",
      "source": [
        "plg=Polygon(pontos)\n",
        "plg"
      ],
      "metadata": {
        "colab": {
          "base_uri": "https://localhost:8080/",
          "height": 121
        },
        "id": "D4Am2yCXYJp0",
        "outputId": "6bd08d80-e81b-4e8a-bb9e-db87935ed7b2"
      },
      "execution_count": 22,
      "outputs": [
        {
          "output_type": "execute_result",
          "data": {
            "text/plain": [
              "<POLYGON ((50 20, 30 10, 10 15, 14 27, 50 23, 50 20))>"
            ],
            "image/svg+xml": "<svg xmlns=\"http://www.w3.org/2000/svg\" xmlns:xlink=\"http://www.w3.org/1999/xlink\" width=\"100.0\" height=\"100.0\" viewBox=\"8.4 8.4 43.2 20.200000000000003\" preserveAspectRatio=\"xMinYMin meet\"><g transform=\"matrix(1,0,0,-1,0,37.0)\"><path fill-rule=\"evenodd\" fill=\"#66cc99\" stroke=\"#555555\" stroke-width=\"0.8640000000000001\" opacity=\"0.6\" d=\"M 50.0,20.0 L 30.0,10.0 L 10.0,15.0 L 14.0,27.0 L 50.0,23.0 L 50.0,20.0 z\" /></g></svg>"
          },
          "metadata": {},
          "execution_count": 22
        }
      ]
    },
    {
      "cell_type": "code",
      "source": [
        "#  Descobrir o centroide\n",
        "print(plg.centroid)"
      ],
      "metadata": {
        "colab": {
          "base_uri": "https://localhost:8080/"
        },
        "id": "78IeZjXFYl3V",
        "outputId": "30ea5d41-25be-4a26-e4c4-b513fbad9c53"
      },
      "execution_count": 24,
      "outputs": [
        {
          "output_type": "stream",
          "name": "stdout",
          "text": [
            "POINT (28.168970814132106 19.03993855606759)\n"
          ]
        }
      ]
    },
    {
      "cell_type": "code",
      "source": [
        "# Descobrir a área do poligono\n",
        "plg.area"
      ],
      "metadata": {
        "colab": {
          "base_uri": "https://localhost:8080/"
        },
        "id": "cZDGVdbpY9OT",
        "outputId": "6eb41820-0c69-4800-e5e5-18171c7cd3a7"
      },
      "execution_count": 25,
      "outputs": [
        {
          "output_type": "execute_result",
          "data": {
            "text/plain": [
              "434.0"
            ]
          },
          "metadata": {},
          "execution_count": 25
        }
      ]
    },
    {
      "cell_type": "markdown",
      "source": [
        "d) Gere o retângulo envolvente do polígono gerado em c."
      ],
      "metadata": {
        "id": "uoYYSNw2LBsr"
      }
    },
    {
      "cell_type": "code",
      "source": [
        "# Importar as biblio\n",
        "from shapely.geometry import box"
      ],
      "metadata": {
        "id": "vECo5V5GLLCq"
      },
      "execution_count": 26,
      "outputs": []
    },
    {
      "cell_type": "code",
      "source": [
        "# Extrair as coordenadas\n",
        "plg.bounds\n",
        "ret=box(plg.bounds[0],plg.bounds[1],plg.bounds[2],plg.bounds[3])\n",
        "type(ret)\n"
      ],
      "metadata": {
        "colab": {
          "base_uri": "https://localhost:8080/"
        },
        "id": "MMno9dUxcyPq",
        "outputId": "401a401e-7f6a-42c0-d078-95810d173318"
      },
      "execution_count": 33,
      "outputs": [
        {
          "output_type": "execute_result",
          "data": {
            "text/plain": [
              "shapely.geometry.polygon.Polygon"
            ]
          },
          "metadata": {},
          "execution_count": 33
        }
      ]
    },
    {
      "cell_type": "code",
      "source": [
        "ret\n"
      ],
      "metadata": {
        "colab": {
          "base_uri": "https://localhost:8080/",
          "height": 121
        },
        "id": "siC29cY5d2SS",
        "outputId": "d3d9da18-f355-4971-c44c-5584c311f5cc"
      },
      "execution_count": 34,
      "outputs": [
        {
          "output_type": "execute_result",
          "data": {
            "text/plain": [
              "<POLYGON ((50 10, 50 27, 10 27, 10 10, 50 10))>"
            ],
            "image/svg+xml": "<svg xmlns=\"http://www.w3.org/2000/svg\" xmlns:xlink=\"http://www.w3.org/1999/xlink\" width=\"100.0\" height=\"100.0\" viewBox=\"8.4 8.4 43.2 20.200000000000003\" preserveAspectRatio=\"xMinYMin meet\"><g transform=\"matrix(1,0,0,-1,0,37.0)\"><path fill-rule=\"evenodd\" fill=\"#66cc99\" stroke=\"#555555\" stroke-width=\"0.8640000000000001\" opacity=\"0.6\" d=\"M 50.0,10.0 L 50.0,27.0 L 10.0,27.0 L 10.0,10.0 L 50.0,10.0 z\" /></g></svg>"
          },
          "metadata": {},
          "execution_count": 34
        }
      ]
    },
    {
      "cell_type": "markdown",
      "source": [
        "e) Crie uma coleção de geometrias do tipo Multiponto (MultiPoint) para armazenar a localização desses cinco lugares"
      ],
      "metadata": {
        "id": "WOGYdGZILEhr"
      }
    },
    {
      "cell_type": "code",
      "source": [
        "# Importando as bibliotecas\n",
        "from shapely.geometry import MultiPoint\n",
        "mlt_pts=MultiPoint(pontos)\n",
        "mlt_pts"
      ],
      "metadata": {
        "id": "4SwC-jeOLIOo",
        "colab": {
          "base_uri": "https://localhost:8080/",
          "height": 121
        },
        "outputId": "b866c77c-10f8-4e2d-8b52-96541057c809"
      },
      "execution_count": 38,
      "outputs": [
        {
          "output_type": "execute_result",
          "data": {
            "text/plain": [
              "<MULTIPOINT (50 20, 30 10, 10 15, 14 27, 50 23)>"
            ],
            "image/svg+xml": "<svg xmlns=\"http://www.w3.org/2000/svg\" xmlns:xlink=\"http://www.w3.org/1999/xlink\" width=\"100.0\" height=\"100.0\" viewBox=\"8.4 8.4 43.2 20.200000000000003\" preserveAspectRatio=\"xMinYMin meet\"><g transform=\"matrix(1,0,0,-1,0,37.0)\"><g><circle cx=\"50.0\" cy=\"20.0\" r=\"1.2960000000000003\" stroke=\"#555555\" stroke-width=\"0.43200000000000005\" fill=\"#66cc99\" opacity=\"0.6\" /><circle cx=\"30.0\" cy=\"10.0\" r=\"1.2960000000000003\" stroke=\"#555555\" stroke-width=\"0.43200000000000005\" fill=\"#66cc99\" opacity=\"0.6\" /><circle cx=\"10.0\" cy=\"15.0\" r=\"1.2960000000000003\" stroke=\"#555555\" stroke-width=\"0.43200000000000005\" fill=\"#66cc99\" opacity=\"0.6\" /><circle cx=\"14.0\" cy=\"27.0\" r=\"1.2960000000000003\" stroke=\"#555555\" stroke-width=\"0.43200000000000005\" fill=\"#66cc99\" opacity=\"0.6\" /><circle cx=\"50.0\" cy=\"23.0\" r=\"1.2960000000000003\" stroke=\"#555555\" stroke-width=\"0.43200000000000005\" fill=\"#66cc99\" opacity=\"0.6\" /></g></g></svg>"
          },
          "metadata": {},
          "execution_count": 38
        }
      ]
    },
    {
      "cell_type": "code",
      "source": [
        "type(mlt_pts)"
      ],
      "metadata": {
        "colab": {
          "base_uri": "https://localhost:8080/"
        },
        "id": "wf8n3q7beZhx",
        "outputId": "2825d8b5-fc5e-447e-871c-96681d551c7b"
      },
      "execution_count": 39,
      "outputs": [
        {
          "output_type": "execute_result",
          "data": {
            "text/plain": [
              "shapely.geometry.multipoint.MultiPoint"
            ]
          },
          "metadata": {},
          "execution_count": 39
        }
      ]
    }
  ]
}